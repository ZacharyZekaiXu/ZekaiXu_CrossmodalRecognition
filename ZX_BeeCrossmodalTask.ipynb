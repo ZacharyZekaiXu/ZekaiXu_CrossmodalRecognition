{
  "cells": [
    {
      "cell_type": "markdown",
      "metadata": {
        "id": "view-in-github",
        "colab_type": "text"
      },
      "source": [
        "<a href=\"https://colab.research.google.com/github/ZacharyZekaiXu/ZekaiXu_CrossmodalRecognition/blob/main/ZX_BeeCrossmodalTask.ipynb\" target=\"_parent\"><img src=\"https://colab.research.google.com/assets/colab-badge.svg\" alt=\"Open In Colab\"/></a>"
      ]
    },
    {
      "cell_type": "markdown",
      "metadata": {
        "id": "MpkYHwCqk7W-"
      },
      "source": [
        "# Bee_Tactile-Visual_Crossmodality_RL-Task\n",
        "\n",
        "Zekai Xu, Impeiral College\n",
        "\n",
        "### I. Reference\n",
        "\n",
        "### II. Updates and To-Do-List\n",
        "\n",
        "\n",
        "\n",
        "\n",
        "\n"
      ]
    },
    {
      "cell_type": "markdown",
      "source": [
        "# Install, Inputs"
      ],
      "metadata": {
        "id": "LWIny-2EqC7q"
      }
    },
    {
      "cell_type": "code",
      "source": [
        ""
      ],
      "metadata": {
        "id": "0Wyxl2mlz15r"
      },
      "execution_count": null,
      "outputs": []
    },
    {
      "cell_type": "code",
      "execution_count": null,
      "metadata": {
        "id": "IbZxYDxzoz5R",
        "colab": {
          "base_uri": "https://localhost:8080/"
        },
        "outputId": "50580943-5549-4e6c-8c4c-8afec7abc110"
      },
      "outputs": [
        {
          "output_type": "stream",
          "name": "stdout",
          "text": [
            "Installing dm_control...\n",
            "\u001b[31mERROR: pip's dependency resolver does not currently take into account all the packages that are installed. This behaviour is the source of the following dependency conflicts.\n",
            "tensorflow 2.8.2+zzzcolab20220719082949 requires protobuf<3.20,>=3.9.2, but you have protobuf 4.21.5 which is incompatible.\n",
            "tensorflow-metadata 1.9.0 requires protobuf<4,>=3.13, but you have protobuf 4.21.5 which is incompatible.\n",
            "google-cloud-bigquery-storage 1.1.2 requires protobuf<4.0.0dev, but you have protobuf 4.21.5 which is incompatible.\n",
            "google-api-core 1.31.6 requires protobuf<4.0.0dev,>=3.12.0; python_version > \"3\", but you have protobuf 4.21.5 which is incompatible.\u001b[0m\n",
            "env: MUJOCO_GL=egl\n",
            "Checking that the dm_control installation succeeded...\n",
            "Installed dm_control 1.0.5\n"
          ]
        }
      ],
      "source": [
        "#@title Run to install MuJoCo and `dm_control`\n",
        "import distutils.util\n",
        "import subprocess\n",
        "if subprocess.run('nvidia-smi').returncode:\n",
        "  raise RuntimeError(\n",
        "      'Cannot communicate with GPU. '\n",
        "      'Make sure you are using a GPU Colab runtime. '\n",
        "      'Go to the Runtime menu and select Choose runtime type.')\n",
        "\n",
        "print('Installing dm_control...')\n",
        "!pip install -q dm_control>=1.0.5\n",
        "\n",
        "# Configure dm_control to use the EGL rendering backend (requires GPU)\n",
        "%env MUJOCO_GL=egl\n",
        "\n",
        "print('Checking that the dm_control installation succeeded...')\n",
        "try:\n",
        "  from dm_control import suite\n",
        "  env = suite.load('cartpole', 'swingup')\n",
        "  pixels = env.physics.render()\n",
        "except Exception as e:\n",
        "  raise e from RuntimeError(\n",
        "      'Something went wrong during installation. Check the shell output above '\n",
        "      'for more information.\\n'\n",
        "      'If using a hosted Colab runtime, make sure you enable GPU acceleration '\n",
        "      'by going to the Runtime menu and selecting \"Choose runtime type\".')\n",
        "else:\n",
        "  del pixels, suite\n",
        "\n",
        "!echo Installed dm_control $(pip show dm_control | grep -Po \"(?<=Version: ).+\")"
      ]
    },
    {
      "cell_type": "code",
      "execution_count": null,
      "metadata": {
        "id": "T5f4w3Kq2X14"
      },
      "outputs": [],
      "source": [
        "#@title All `dm_control` imports required for this tutorial\n",
        "\n",
        "# The basic mujoco wrapper.\n",
        "from dm_control import mujoco\n",
        "\n",
        "# Access to enums and MuJoCo library functions.\n",
        "from dm_control.mujoco.wrapper.mjbindings import enums\n",
        "from dm_control.mujoco.wrapper.mjbindings import mjlib\n",
        "\n",
        "# PyMJCF\n",
        "from dm_control import mjcf\n",
        "\n",
        "# Composer high level imports\n",
        "from dm_control import composer\n",
        "from dm_control.composer.observation import observable\n",
        "from dm_control.composer import variation\n",
        "\n",
        "# Imports for Composer tutorial example\n",
        "from dm_control.composer.variation import distributions\n",
        "from dm_control.composer.variation import noises\n",
        "from dm_control.locomotion.arenas import floors\n",
        "\n",
        "# Control Suite\n",
        "from dm_control import suite\n",
        "\n",
        "# Run through corridor example\n",
        "from dm_control.locomotion.walkers import cmu_humanoid\n",
        "from dm_control.locomotion.arenas import corridors as corridor_arenas\n",
        "from dm_control.locomotion.tasks import corridors as corridor_tasks\n",
        "\n",
        "# Soccer\n",
        "from dm_control.locomotion import soccer\n",
        "\n",
        "# Manipulation\n",
        "from dm_control import manipulation"
      ]
    },
    {
      "cell_type": "markdown",
      "source": [
        "## ACME"
      ],
      "metadata": {
        "id": "JSQJGWHvqOwZ"
      }
    },
    {
      "cell_type": "code",
      "source": [
        "!pip uninstall sonnet\n",
        "!pip install dm-sonnet"
      ],
      "metadata": {
        "colab": {
          "base_uri": "https://localhost:8080/"
        },
        "id": "Z3thxIo5mem_",
        "outputId": "706b5362-3683-4a0e-b4b2-be0a97bb4bcc"
      },
      "execution_count": 1,
      "outputs": [
        {
          "output_type": "stream",
          "name": "stdout",
          "text": [
            "\u001b[33mWARNING: Skipping sonnet as it is not installed.\u001b[0m\n",
            "Looking in indexes: https://pypi.org/simple, https://us-python.pkg.dev/colab-wheels/public/simple/\n",
            "Requirement already satisfied: dm-sonnet in /usr/local/lib/python3.7/dist-packages (2.0.0)\n",
            "Requirement already satisfied: absl-py>=0.7.1 in /usr/local/lib/python3.7/dist-packages (from dm-sonnet) (1.2.0)\n",
            "Requirement already satisfied: numpy>=1.16.3 in /usr/local/lib/python3.7/dist-packages (from dm-sonnet) (1.21.6)\n",
            "Requirement already satisfied: dm-tree>=0.1.1 in /usr/local/lib/python3.7/dist-packages (from dm-sonnet) (0.1.7)\n",
            "Requirement already satisfied: tabulate>=0.7.5 in /usr/local/lib/python3.7/dist-packages (from dm-sonnet) (0.8.10)\n",
            "Requirement already satisfied: six>=1.12.0 in /usr/local/lib/python3.7/dist-packages (from dm-sonnet) (1.15.0)\n",
            "Requirement already satisfied: wrapt>=1.11.1 in /usr/local/lib/python3.7/dist-packages (from dm-sonnet) (1.14.1)\n"
          ]
        }
      ]
    },
    {
      "cell_type": "code",
      "execution_count": 2,
      "metadata": {
        "id": "KH3O0zcXUeun"
      },
      "outputs": [],
      "source": [
        "#@title Install necessary dependencies.\n",
        "\n",
        "!sudo apt-get install -y xvfb ffmpeg\n",
        "!pip install 'gym==0.10.11'\n",
        "!pip install imageio\n",
        "!pip install PILLOW\n",
        "!pip install 'pyglet==1.3.2'\n",
        "!pip install pyvirtualdisplay\n",
        "\n",
        "!pip install dm-acme\n",
        "!pip install dm-acme[reverb]\n",
        "!pip install dm-acme[tf]\n",
        "\n",
        "from IPython.display import clear_output\n",
        "clear_output()"
      ]
    },
    {
      "cell_type": "code",
      "source": [
        "!pip uninstall dm-acme[envs]"
      ],
      "metadata": {
        "colab": {
          "base_uri": "https://localhost:8080/"
        },
        "id": "IZlRt4b5wwpu",
        "outputId": "2d2a594d-a74e-4fd2-bfa7-72145ac99033"
      },
      "execution_count": 3,
      "outputs": [
        {
          "output_type": "stream",
          "name": "stdout",
          "text": [
            "Found existing installation: dm-acme 0.4.0\n",
            "Uninstalling dm-acme-0.4.0:\n",
            "  Would remove:\n",
            "    /usr/local/lib/python3.7/dist-packages/acme/*\n",
            "    /usr/local/lib/python3.7/dist-packages/dm_acme-0.4.0.dist-info/*\n",
            "Proceed (y/n)? \u001b[31m  ERROR: Operation cancelled by user\u001b[0m\n"
          ]
        }
      ]
    },
    {
      "cell_type": "code",
      "execution_count": 4,
      "metadata": {
        "id": "HJ74Id-8MERq"
      },
      "outputs": [],
      "source": [
        "#@title Import modules.\n",
        "#python3\n",
        "\n",
        "%%capture\n",
        "import copy\n",
        "import pyvirtualdisplay\n",
        "import imageio \n",
        "import base64\n",
        "import IPython\n",
        "\n",
        "from acme import environment_loop\n",
        "from acme.tf import networks\n",
        "from acme.adders import reverb as adders\n",
        "from acme.agents.tf import actors as actors\n",
        "from acme.datasets import reverb as datasets\n",
        "from acme.wrappers import gym_wrapper\n",
        "from acme import specs\n",
        "from acme import wrappers\n",
        "from acme.agents.tf import d4pg\n",
        "from acme.agents.tf import ddpg\n",
        "from acme.agents import agent\n",
        "from acme.tf import utils as tf2_utils\n",
        "from acme.utils import loggers\n",
        "\n",
        "import gym \n",
        "\n",
        "import matplotlib.pyplot as plt\n",
        "import numpy as np\n",
        "import reverb\n",
        "import sonnet as snt\n",
        "import tensorflow as tf\n",
        "\n",
        "# Set up a virtual display for rendering OpenAI gym environments.\n",
        "display = pyvirtualdisplay.Display(visible=0, size=(1400, 900)).start()"
      ]
    },
    {
      "cell_type": "markdown",
      "source": [
        "## Mujoco"
      ],
      "metadata": {
        "id": "LdreVcM085t2"
      }
    },
    {
      "cell_type": "code",
      "source": [
        "!pip install mujoco-py\n",
        "!pip install xmltodict\n",
        "!apt-get install -y \\\n",
        "    libgl1-mesa-dev \\\n",
        "    libgl1-mesa-glx \\\n",
        "    libglew-dev \\\n",
        "    libosmesa6-dev \\\n",
        "    software-properties-common\n",
        "\n",
        "!apt-get install -y patchelf\n",
        "clear_output()"
      ],
      "metadata": {
        "id": "pNteww8wxsuU"
      },
      "execution_count": 5,
      "outputs": []
    },
    {
      "cell_type": "code",
      "source": [
        "!python --version"
      ],
      "metadata": {
        "colab": {
          "base_uri": "https://localhost:8080/"
        },
        "id": "H0Gkpz20yPrc",
        "outputId": "2342f2c2-845d-4cb5-9594-7acffb754f27"
      },
      "execution_count": 6,
      "outputs": [
        {
          "output_type": "stream",
          "name": "stdout",
          "text": [
            "Python 3.7.13\n"
          ]
        }
      ]
    },
    {
      "cell_type": "code",
      "source": [
        "!apt-get install -y \\\n",
        "    libgl1-mesa-dev \\\n",
        "    libgl1-mesa-glx \\\n",
        "    libglew-dev \\\n",
        "    libosmesa6-dev \\\n",
        "    software-properties-common\n",
        "\n",
        "!apt-get install -y patchelf\n",
        "\n",
        "!pip install gym\n",
        "!pip install free-mujoco-py\n",
        "import mujoco_py\n",
        "import gym"
      ],
      "metadata": {
        "colab": {
          "base_uri": "https://localhost:8080/"
        },
        "id": "t53qe-GcvRPW",
        "outputId": "a97babd1-146c-4cea-ba5b-ba43cb73945e"
      },
      "execution_count": 6,
      "outputs": [
        {
          "output_type": "stream",
          "name": "stdout",
          "text": [
            "Reading package lists... Done\n",
            "Building dependency tree       \n",
            "Reading state information... Done\n",
            "libglew-dev is already the newest version (2.0.0-5).\n",
            "libgl1-mesa-dev is already the newest version (20.0.8-0ubuntu1~18.04.1).\n",
            "libgl1-mesa-glx is already the newest version (20.0.8-0ubuntu1~18.04.1).\n",
            "libosmesa6-dev is already the newest version (20.0.8-0ubuntu1~18.04.1).\n",
            "software-properties-common is already the newest version (0.96.24.32.18).\n",
            "The following package was automatically installed and is no longer required:\n",
            "  libnvidia-common-460\n",
            "Use 'apt autoremove' to remove it.\n",
            "0 upgraded, 0 newly installed, 0 to remove and 19 not upgraded.\n",
            "Reading package lists... Done\n",
            "Building dependency tree       \n",
            "Reading state information... Done\n",
            "patchelf is already the newest version (0.9-1).\n",
            "The following package was automatically installed and is no longer required:\n",
            "  libnvidia-common-460\n",
            "Use 'apt autoremove' to remove it.\n",
            "0 upgraded, 0 newly installed, 0 to remove and 19 not upgraded.\n",
            "Looking in indexes: https://pypi.org/simple, https://us-python.pkg.dev/colab-wheels/public/simple/\n",
            "Requirement already satisfied: gym in /usr/local/lib/python3.7/dist-packages (0.10.11)\n",
            "Requirement already satisfied: requests>=2.0 in /usr/local/lib/python3.7/dist-packages (from gym) (2.23.0)\n",
            "Requirement already satisfied: scipy in /usr/local/lib/python3.7/dist-packages (from gym) (1.7.3)\n",
            "Requirement already satisfied: pyglet>=1.2.0 in /usr/local/lib/python3.7/dist-packages (from gym) (1.3.2)\n",
            "Requirement already satisfied: numpy>=1.10.4 in /usr/local/lib/python3.7/dist-packages (from gym) (1.21.6)\n",
            "Requirement already satisfied: six in /usr/local/lib/python3.7/dist-packages (from gym) (1.15.0)\n",
            "Requirement already satisfied: future in /usr/local/lib/python3.7/dist-packages (from pyglet>=1.2.0->gym) (0.16.0)\n",
            "Requirement already satisfied: idna<3,>=2.5 in /usr/local/lib/python3.7/dist-packages (from requests>=2.0->gym) (2.10)\n",
            "Requirement already satisfied: chardet<4,>=3.0.2 in /usr/local/lib/python3.7/dist-packages (from requests>=2.0->gym) (3.0.4)\n",
            "Requirement already satisfied: certifi>=2017.4.17 in /usr/local/lib/python3.7/dist-packages (from requests>=2.0->gym) (2022.6.15)\n",
            "Requirement already satisfied: urllib3!=1.25.0,!=1.25.1,<1.26,>=1.21.1 in /usr/local/lib/python3.7/dist-packages (from requests>=2.0->gym) (1.24.3)\n",
            "Looking in indexes: https://pypi.org/simple, https://us-python.pkg.dev/colab-wheels/public/simple/\n",
            "Requirement already satisfied: free-mujoco-py in /usr/local/lib/python3.7/dist-packages (2.1.6)\n",
            "Requirement already satisfied: numpy<2.0.0,>=1.21.3 in /usr/local/lib/python3.7/dist-packages (from free-mujoco-py) (1.21.6)\n",
            "Requirement already satisfied: Cython<0.30.0,>=0.29.24 in /usr/local/lib/python3.7/dist-packages (from free-mujoco-py) (0.29.32)\n",
            "Requirement already satisfied: fasteners==0.15 in /usr/local/lib/python3.7/dist-packages (from free-mujoco-py) (0.15)\n",
            "Requirement already satisfied: cffi<2.0.0,>=1.15.0 in /usr/local/lib/python3.7/dist-packages (from free-mujoco-py) (1.15.1)\n",
            "Requirement already satisfied: glfw<2.0.0,>=1.4.0 in /usr/local/lib/python3.7/dist-packages (from free-mujoco-py) (1.12.0)\n",
            "Requirement already satisfied: imageio<3.0.0,>=2.9.0 in /usr/local/lib/python3.7/dist-packages (from free-mujoco-py) (2.9.0)\n",
            "Requirement already satisfied: monotonic>=0.1 in /usr/local/lib/python3.7/dist-packages (from fasteners==0.15->free-mujoco-py) (1.6)\n",
            "Requirement already satisfied: six in /usr/local/lib/python3.7/dist-packages (from fasteners==0.15->free-mujoco-py) (1.15.0)\n",
            "Requirement already satisfied: pycparser in /usr/local/lib/python3.7/dist-packages (from cffi<2.0.0,>=1.15.0->free-mujoco-py) (2.21)\n",
            "Requirement already satisfied: pillow in /usr/local/lib/python3.7/dist-packages (from imageio<3.0.0,>=2.9.0->free-mujoco-py) (7.1.2)\n"
          ]
        }
      ]
    },
    {
      "cell_type": "markdown",
      "source": [
        "## Google Drive"
      ],
      "metadata": {
        "id": "-nbeROJlq8E_"
      }
    },
    {
      "cell_type": "code",
      "source": [
        "from google.colab import drive\n",
        "drive.mount('/content/zxdrive')\n",
        "\n",
        "%cd zxdrive/MyDrive/BeeCrossmodalityPJ/safety-gym\n",
        "!git pull"
      ],
      "metadata": {
        "colab": {
          "base_uri": "https://localhost:8080/"
        },
        "id": "i2fPpNmOk34T",
        "outputId": "72e0d70c-38c8-4b3f-bb7d-426141ddd20c"
      },
      "execution_count": 13,
      "outputs": [
        {
          "output_type": "stream",
          "name": "stdout",
          "text": [
            "Drive already mounted at /content/zxdrive; to attempt to forcibly remount, call drive.mount(\"/content/zxdrive\", force_remount=True).\n",
            "/content/zxdrive/MyDrive/BeeCrossmodalityPJ/safety-gym\n",
            "Already up to date.\n"
          ]
        }
      ]
    },
    {
      "cell_type": "markdown",
      "metadata": {
        "id": "YvyGCsgSCxHQ"
      },
      "source": [
        "## dm_control"
      ]
    },
    {
      "cell_type": "markdown",
      "metadata": {
        "id": "wtDN43hIJh2C"
      },
      "source": [
        "## Imports\n",
        "\n",
        "Run both of these cells:"
      ]
    },
    {
      "cell_type": "code",
      "execution_count": 18,
      "metadata": {
        "id": "gKc1FNhKiVJX"
      },
      "outputs": [],
      "source": [
        "#@title Other imports and helper functions\n",
        "\n",
        "# General\n",
        "import os\n",
        "import copy\n",
        "import itertools\n",
        "from IPython.display import clear_output\n",
        "import numpy as np\n",
        "\n",
        "# Graphics-related\n",
        "import matplotlib\n",
        "import matplotlib.animation as animation\n",
        "import matplotlib.pyplot as plt\n",
        "from IPython.display import HTML\n",
        "import PIL.Image\n",
        "# Internal loading of video libraries.\n",
        "\n",
        "# Use svg backend for figure rendering\n",
        "%config InlineBackend.figure_format = 'svg'\n",
        "\n",
        "# Font sizes\n",
        "SMALL_SIZE = 8\n",
        "MEDIUM_SIZE = 10\n",
        "BIGGER_SIZE = 12\n",
        "plt.rc('font', size=SMALL_SIZE)          # controls default text sizes\n",
        "plt.rc('axes', titlesize=SMALL_SIZE)     # fontsize of the axes title\n",
        "plt.rc('axes', labelsize=MEDIUM_SIZE)    # fontsize of the x and y labels\n",
        "plt.rc('xtick', labelsize=SMALL_SIZE)    # fontsize of the tick labels\n",
        "plt.rc('ytick', labelsize=SMALL_SIZE)    # fontsize of the tick labels\n",
        "plt.rc('legend', fontsize=SMALL_SIZE)    # legend fontsize\n",
        "plt.rc('figure', titlesize=BIGGER_SIZE)  # fontsize of the figure title\n",
        "\n",
        "# Inline video helper function\n",
        "if os.environ.get('COLAB_NOTEBOOK_TEST', False):\n",
        "  # We skip video generation during tests, as it is quite expensive.\n",
        "  display_video = lambda *args, **kwargs: None\n",
        "else:\n",
        "  def display_video(frames, framerate=30):\n",
        "    height, width, _ = frames[0].shape\n",
        "    dpi = 70\n",
        "    orig_backend = matplotlib.get_backend()\n",
        "    matplotlib.use('Agg')  # Switch to headless 'Agg' to inhibit figure rendering.\n",
        "    fig, ax = plt.subplots(1, 1, figsize=(width / dpi, height / dpi), dpi=dpi)\n",
        "    matplotlib.use(orig_backend)  # Switch back to the original backend.\n",
        "    ax.set_axis_off()\n",
        "    ax.set_aspect('equal')\n",
        "    ax.set_position([0, 0, 1, 1])\n",
        "    im = ax.imshow(frames[0])\n",
        "    def update(frame):\n",
        "      im.set_data(frame)\n",
        "      return [im]\n",
        "    interval = 1000/framerate\n",
        "    anim = animation.FuncAnimation(fig=fig, func=update, frames=frames,\n",
        "                                   interval=interval, blit=True, repeat=False)\n",
        "    return HTML(anim.to_html5_video())\n",
        "\n",
        "# Seed numpy's global RNG so that cell outputs are deterministic. We also try to\n",
        "# use RandomState instances that are local to a single cell wherever possible.\n",
        "np.random.seed(42)"
      ]
    },
    {
      "cell_type": "markdown",
      "metadata": {
        "id": "jZXz9rPYGA-Y"
      },
      "source": [
        "# Model definition, compilation and rendering\n",
        "\n"
      ]
    },
    {
      "cell_type": "markdown",
      "metadata": {
        "id": "MRBaZsf1d7Gb"
      },
      "source": [
        "Here are some basic concepts of the [MuJoCo](http://mujoco.org/) physics simulation library, recommend the [official documentation](http://mujoco.org/book/) for details."
      ]
    },
    {
      "cell_type": "markdown",
      "source": [
        "### Model Settings"
      ],
      "metadata": {
        "id": "E2SR69ij85YR"
      }
    },
    {
      "cell_type": "code",
      "execution_count": 19,
      "metadata": {
        "id": "ZS2utl59ZTsr",
        "colab": {
          "base_uri": "https://localhost:8080/",
          "height": 235
        },
        "outputId": "6f1b697c-4f64-47da-9e51-dc6ddd758c5e"
      },
      "outputs": [
        {
          "output_type": "error",
          "ename": "NameError",
          "evalue": "ignored",
          "traceback": [
            "\u001b[0;31m---------------------------------------------------------------------------\u001b[0m",
            "\u001b[0;31mNameError\u001b[0m                                 Traceback (most recent call last)",
            "\u001b[0;32m<ipython-input-19-23ba2888f83c>\u001b[0m in \u001b[0;36m<module>\u001b[0;34m\u001b[0m\n\u001b[1;32m     49\u001b[0m \"\"\"\n\u001b[1;32m     50\u001b[0m \u001b[0;34m\u001b[0m\u001b[0m\n\u001b[0;32m---> 51\u001b[0;31m \u001b[0mphysics\u001b[0m \u001b[0;34m=\u001b[0m \u001b[0mmujoco\u001b[0m\u001b[0;34m.\u001b[0m\u001b[0mPhysics\u001b[0m\u001b[0;34m.\u001b[0m\u001b[0mfrom_xml_string\u001b[0m\u001b[0;34m(\u001b[0m\u001b[0mbee_pointmodel\u001b[0m\u001b[0;34m)\u001b[0m\u001b[0;34m\u001b[0m\u001b[0;34m\u001b[0m\u001b[0m\n\u001b[0m\u001b[1;32m     52\u001b[0m \u001b[0mpixels\u001b[0m \u001b[0;34m=\u001b[0m \u001b[0mphysics\u001b[0m\u001b[0;34m.\u001b[0m\u001b[0mrender\u001b[0m\u001b[0;34m(\u001b[0m\u001b[0;34m)\u001b[0m\u001b[0;34m\u001b[0m\u001b[0;34m\u001b[0m\u001b[0m\n\u001b[1;32m     53\u001b[0m \u001b[0mPIL\u001b[0m\u001b[0;34m.\u001b[0m\u001b[0mImage\u001b[0m\u001b[0;34m.\u001b[0m\u001b[0mfromarray\u001b[0m\u001b[0;34m(\u001b[0m\u001b[0mpixels\u001b[0m\u001b[0;34m)\u001b[0m\u001b[0;34m\u001b[0m\u001b[0;34m\u001b[0m\u001b[0m\n",
            "\u001b[0;31mNameError\u001b[0m: name 'mujoco' is not defined"
          ]
        }
      ],
      "source": [
        "\n",
        "import mujoco_py\n",
        "\n",
        "\n",
        "bee_pointmodel = \"\"\"\n",
        "<mujoco>\n",
        "    <size njmax=\"3000\" nconmax=\"1000\"/>\n",
        "    <option timestep=\"0.002\"/>\n",
        "    <default>\n",
        "        <geom condim=\"6\" density=\"1\" rgba=\"1 1 0 1\"/>\n",
        "        <joint damping=\".001\"/>\n",
        "        <motor ctrlrange=\"-1 1\" ctrllimited=\"true\" forcerange=\"-.05 .05\" forcelimited=\"true\"/>\n",
        "        <velocity ctrlrange=\"-1 1\" ctrllimited=\"true\" forcerange=\"-.05 .05\" forcelimited=\"true\"/>\n",
        "        <site size=\"0.032\" type=\"sphere\"/>\n",
        "    </default>\n",
        "    <worldbody>-\n",
        "        <light name=\"toplight\" pos=\"0 0 1\"/>\n",
        "        <geom name=\"floor\" size=\"5 5 0.1\" type=\"plane\" condim=\"6\"/>\n",
        "        <body name=\"robot\" pos=\"0 0 .1\">\n",
        "            <camera name=\"vision1\" pos=\"0 0 .15\" xyaxes=\"0 -1 0 .4 0 1\" fovy=\"90\"/>\n",
        "            <!-- <geom name=\"camera\" pos=\"-.2 0 0\" type=\"sphere\" size=\".05\"/> -->\n",
        "            <joint type=\"slide\" axis=\"1 0 0\" name=\"x\" damping=\"0.01\"/>\n",
        "            <joint type=\"slide\" axis=\"0 1 0\" name=\"y\" damping=\"0.01\"/>\n",
        "            <joint type=\"hinge\" axis=\"0 0 1\" name=\"z\" damping=\"0.005\"/>\n",
        "            <geom name=\"robot\" type=\"sphere\" size=\".1\" friction=\"1 0.01 0.01\"/>\n",
        "            <geom name=\"beehead\" pos=\"0.09 0 0\" size=\"0.06\" type=\"sphere\" density = \"0\"/>\n",
        "            <geom name=\"beewhister1\" type=\"cylinder\"  size=\"0.004 .8\" fromto=\"0.1 -.03 0 0.5 -.03 0\"/>\n",
        "            <geom name=\"beewhister2\" type=\"cylinder\"  size=\"0.004 .8\" fromto=\"0.1 .03 0 0.5 .03 0\"/>\n",
        "            <geom name=\"beeeye1\" type=\"sphere\" size=\".02\" pos=\".11 -.03 0.05\" rgba=\"0 0 0 1\"/>\n",
        "            <geom name=\"beeeye2\" type=\"sphere\" size=\".02\" pos=\".11 0.03 0.05\" rgba = \"0 0 0 1\"/>\n",
        "            <site name=\"robot\" rgba=\"1 0 0 .1\"/>\n",
        "        </body>\n",
        "    </worldbody>\n",
        "    <sensor>\n",
        "        <!-- Used for observation -->\n",
        "        <accelerometer site=\"robot\" name=\"accelerometer\"/>\n",
        "        <velocimeter site=\"robot\" name=\"velocimeter\"/>\n",
        "        <gyro site=\"robot\" name=\"gyro\"/>\n",
        "        <magnetometer site=\"robot\" name=\"magnetometer\"/>\n",
        "        <!-- Used for intrinsic constraints -->\n",
        "        <subtreecom body=\"robot\" name=\"subtreecom\"/>\n",
        "        <subtreelinvel body=\"robot\" name=\"subtreelinvel\"/>\n",
        "        <subtreeangmom body=\"robot\" name=\"subtreeangmom\"/>\n",
        "    </sensor>\n",
        "    <actuator>\n",
        "        <motor gear=\"0.3 0 0 0 0 0\" site=\"robot\" name=\"x\"/>\n",
        "        <velocity gear=\"0.3\" jointinparent=\"z\" name=\"z\"/>\n",
        "    </actuator>\n",
        "</mujoco>\n",
        "\"\"\"\n",
        "\n",
        "physics = mujoco.Physics.from_xml_string(bee_pointmodel)\n",
        "pixels = physics.render()\n",
        "PIL.Image.fromarray(pixels)"
      ]
    },
    {
      "cell_type": "markdown",
      "metadata": {
        "id": "p4vPllljTJh8"
      },
      "source": [
        "`static_model` is written in MuJoCo's XML-based [MJCF](http://www.mujoco.org/book/modeling.html) modeling language. The `from_xml_string()` method invokes the model compiler, which instantiates the library's internal data structures. These can be accessed via the `physics` object, see below."
      ]
    },
    {
      "cell_type": "code",
      "execution_count": 9,
      "metadata": {
        "id": "Z_57VMUDpGrj",
        "colab": {
          "base_uri": "https://localhost:8080/",
          "height": 261
        },
        "outputId": "20307398-737c-41a3-86f0-bbc6b34b2d8c"
      },
      "outputs": [
        {
          "output_type": "execute_result",
          "data": {
            "text/plain": [
              "<IPython.core.display.HTML object>"
            ],
            "text/html": [
              "<video width=\"320\" height=\"240\" controls autoplay>\n",
              "  <source type=\"video/mp4\" src=\"data:video/mp4;base64,AAAAHGZ0eXBNNFYgAAACAGlzb21pc28yYXZjMQAAAAhmcmVlAAAZw21kYXQAAAKuBgX//6rcRem9\n",
              "5tlIt5Ys2CDZI+7veDI2NCAtIGNvcmUgMTUyIHIyODU0IGU5YTU5MDMgLSBILjI2NC9NUEVHLTQg\n",
              "QVZDIGNvZGVjIC0gQ29weWxlZnQgMjAwMy0yMDE3IC0gaHR0cDovL3d3dy52aWRlb2xhbi5vcmcv\n",
              "eDI2NC5odG1sIC0gb3B0aW9uczogY2FiYWM9MSByZWY9MyBkZWJsb2NrPTE6MDowIGFuYWx5c2U9\n",
              "MHgzOjB4MTEzIG1lPWhleCBzdWJtZT03IHBzeT0xIHBzeV9yZD0xLjAwOjAuMDAgbWl4ZWRfcmVm\n",
              "PTEgbWVfcmFuZ2U9MTYgY2hyb21hX21lPTEgdHJlbGxpcz0xIDh4OGRjdD0xIGNxbT0wIGRlYWR6\n",
              "b25lPTIxLDExIGZhc3RfcHNraXA9MSBjaHJvbWFfcXBfb2Zmc2V0PS0yIHRocmVhZHM9NyBsb29r\n",
              "YWhlYWRfdGhyZWFkcz0xIHNsaWNlZF90aHJlYWRzPTAgbnI9MCBkZWNpbWF0ZT0xIGludGVybGFj\n",
              "ZWQ9MCBibHVyYXlfY29tcGF0PTAgY29uc3RyYWluZWRfaW50cmE9MCBiZnJhbWVzPTMgYl9weXJh\n",
              "bWlkPTIgYl9hZGFwdD0xIGJfYmlhcz0wIGRpcmVjdD0xIHdlaWdodGI9MSBvcGVuX2dvcD0wIHdl\n",
              "aWdodHA9MiBrZXlpbnQ9MjUwIGtleWludF9taW49MjUgc2NlbmVjdXQ9NDAgaW50cmFfcmVmcmVz\n",
              "aD0wIHJjX2xvb2thaGVhZD00MCByYz1jcmYgbWJ0cmVlPTEgY3JmPTIzLjAgcWNvbXA9MC42MCBx\n",
              "cG1pbj0wIHFwbWF4PTY5IHFwc3RlcD00IGlwX3JhdGlvPTEuNDAgYXE9MToxLjAwAIAAAAk9ZYiE\n",
              "ADf//uED+BTMOPmMuMsFZlcuRtxKXTNnzkBiPXQVxBGAAJZTkDZ2geVuIPgEqAWKsnpGSirFQbAH\n",
              "+JLJ+GbffFqgbWKEuQqGqsu4U+og9rZc32difk0MdQ/HxQi/qVndN+AQfOHHV5ef0fEAxLV2fcOh\n",
              "3XkNkiI8fPZ8V0hNa/zRChKACJRNCJyLYJ+G+HT0Beujy2Kuy3YPRUPriFlcZ3VEYZdS73ssmpY0\n",
              "jGxoOGigvHk/QcfFFt5BreXb14U8efvsij0UKdAXSFDfrY3xNsjkrWo2wREZRO7CvKQjg4uWQtwu\n",
              "LuDacNmAoaz59g3YqSg9TgshyvD1laZaYNUk5DPG9zjB9XW6b6CnA/DjBEeC4WJHDUbKOj2+3wVS\n",
              "ak0dr3IFnSimV8Tobxd5XBYuW4efXIX3ORkcxu8fXEb4WuuBo+Ehjn+A+rgrGORwoe4MEtKwF+h+\n",
              "zowV9XnxI3ALQfNXYM2TSLj3DOaR3SCedJWdj4kwnex8nGNQoamz+J0jUJbf+DOzwKs17jDd35eC\n",
              "9uGoJqofO2iQAZbDtdBMcagXf6/BLSb+Wdws1QB9ZQP0thYDcZkBQf4YDJhwmO04Z7bJGzCz4/v9\n",
              "qduirHTb+ne0nf8aGw1WM62CyIDxEqiJrMqh4OE8762OJdYA5LJ9NI/734+VqaPWSMe6YGyZ5FLR\n",
              "QGBn23pel7EItOfbARzeowks+vPMvKHiordi5cYxKyZ2O443myZzpLn/0KVZfmjcczmv3h+4xbJq\n",
              "yYk9WVSnzNTgrdSt9l3DjMr43l//h+Sz9dkBvalami08UD9i3gX89GeG/+VX8NxwWZCTsCrvrYI+\n",
              "L46pUpaa0dlbDJusRGN4A6v91Gz0OnLuRP6wftSvuiXFIVFV2ZO7a4FOM8FN//ZGnagKZ4qxDhqV\n",
              "BSi3gEbFkuGTBsh19WwYnVVZXKjlhPT3FX1KEVGByNaMhEFAo6G6uwSl+KtiyHbLMS5QYnTFEiOX\n",
              "vy71QjJjc7yLNflHAA6F0X9FdN310KMyktsKMJiM3/vqx/PVKFvMe1mgL05TK3krD81UxVuLAoWw\n",
              "zljVdCXCQT75BoNeOOcZeTRz++Wt4NYWDb+kJJXQiawwo6I8r7Sq3C+hgZ8Lfwjc7K/t6evVDsaW\n",
              "Nr2geTUgBkmf0GU/N8sFZ52/6Nmue/Mc/4w/sr5TXsM9M1eIQJf0LqQnN7tIYpWVQzcCqcG3Ls7J\n",
              "k/ie5x0nUMdwKojY3LuDUmUMyz3ELU+dFgUM+WYUGTyiSBBQWut5Guxpz6Ns4adSmHKDVjXwhS42\n",
              "2zOmSpFHZfVamlPj958yvwwe0o8PGThb6JbHdPCzikvRytjl+b8UpjOkX8OBefQ52hzrhIvjw4aD\n",
              "f1knwXLwdt8eaYLpPHN7GMdz0d1janpn9N+Z4XyVHmoVfkfjBpTjR1I+Kwk/PdCIYE9Iwi7Folji\n",
              "1+8a/dDpWjOnAqj1lfZx2LXgKW470c4dlI5RjcLK7I3mRbcL0Ld2q0Ge7sRRLrxSZqXtah+HqLGK\n",
              "snrc0nw0S2y01he0PhopneHXyT5fCDuBatBrUBWPa50VUjf8rz4Ay9PTcOa3ofVx/3xckJqv96TK\n",
              "i+m7jn8EY0PZIE6ErWb3GUG7uL+0poIeTtaccZOY5rNnH06Z1Q2QStJguGe87FV6364ZXyfjIb6x\n",
              "MZr0k/6ORR3qemjS2fSkmpgtWH/ZfVclcyLSrmRZz8MUg2mzSEUGNJEOfNsFJEFKayHWoFnvnWN7\n",
              "pWv5loNDR/mT+QobtSA8YTs9pM4kcB0xYKop/kI2jyjCQ97DkgI91dfc2BrWOIG9fjfvmzJqKGHe\n",
              "8h1mxgJ55OBjpfksYsBGFOzuaTvu17k+BnkvE/SDEOAUKl7lKFNQMxD+1XMt91ZZFB7SFi9+b260\n",
              "JYlIa2KreTCfMqFKpMy6jA90kCjdhfrlAzCeU6aNVng+6Gw6KyILbYxs9SXzoU/03gq+kVrA8uWJ\n",
              "fsr5jGOS22y4t8w9rQd6DLRF8lvJuGF4anXGrSI9LuNBHaTUkz0Rlk1MGSq4oEOtIKt1de+Tt4g9\n",
              "ZPHiKXd6B1RQtggY5NJ4irC8RKBVxVGrm5upazX3XKOo0AGkKzk+MyOIs1IK1SKeF1zWQk81Folg\n",
              "kDD7Q3SXQIicVnoe7IvQOa27V23aEFtYLAMHv4ASPGanYPdLrMHkT2qV68GLGwwQYQphFkrC76c7\n",
              "xbdxrXoOkAaFP8IjOOa9anL3QKRh33Dpy/9CZ5f1pdI4i9ZIWQ6RZwnoQx0xo2pXeuWeepEvKmq7\n",
              "VoZViD87sZwPGYIIVjzQ3c3vVVsAUh5i3OZh2QdJf9e4r/QY0TLyV4S+dJSd/1f31LpirAwSRkHl\n",
              "C6I8sOPVscrLkmxeZhfzuptlwLhj9PMPU+r5xdz/FLTmlLKMlSp8ngO9RofK0iwTs/Vu0ZmfGlKu\n",
              "kU0WkWQ+lLAhNaC7i21UzJkREb25AU26uuxVaAqf/40cWBuIuSPD/3BgkYgXsN5ixoP1Y5872LDw\n",
              "cDCnY0+wz5HobG0DbF6PF6Aqu96J/THfzT5a8nihZLXviQNneZzh4z9ENFi9uWjqnT0OS5+uBRTR\n",
              "P7D0IrwOcOhGunVYMDAQ4vAG7yKQYUzfQKXORe4ciGy823JEPa6tBTvfwHxJmrSG7+cUPEsDEBh7\n",
              "VvmrbgpdWZISXQpyL99MEnDFGz4WmgTd2Hlce0RomellfnH9U4iLEy1iKQ7K5VdfJheKF0072L7y\n",
              "czRNhszyib3IlNRRea6w5Ahbc3cMJjHokGPpF8HKvzA9yjSCf1AHfVNQUTlvp0X2/MjqlIJcXuPk\n",
              "azMc/ZNxWimezYgA1aaeO1NRTftWztMJ1vHSk9gA5GLZyxK//+aaJhtHCs/onho6E/Hon0fwQz4Z\n",
              "yl0XN6ywUdHIH2ZJaiu+enecXPs67Ba14cAgpd/cKVotDuttKZ3uALU9EAtGiNpuDw6hsJ5sAWcr\n",
              "GqnGemR7AS9i2kfu/JLAJMiNpvYI2slPJhr7WBZpmLVHy8aKrgIDe6Y4fzOtOCHHm2ije8pfurIE\n",
              "5ucFS+DJegV9HNU7UJ64Fq+rEgkEkQdkhX8pgvGocXwRDXh0fWR3ZYlNTcmQ2XA1/JregL+qlO4C\n",
              "sgkPbji+dkXH1cusDXa+/iYxKGBGRiBlwQAAAMFBmiRsQ3/+p4QDnN+aTz+03COMdknOSCZVxKXd\n",
              "xVjG6VrFuAHooi5PKJZCh+OYvizwx/qzYFXqi5Y9d6QHPSEYloJKSCiTnZWlH4YMtvaHvLNuEJsl\n",
              "9Dji0IN7kw0QcJjDnDmGQTJGuZDJPjbQHwsb+Yu9LjOmCf0JRAvcLsaWbuLMmmPRvo4y+R/FHVd7\n",
              "zncV3XCLyM5snmjhZh753qECORwlZLpNMvVIqeKbU2Id2qIwupZPM4GF7u/H6irKeB78AAAAJ0Ge\n",
              "QniFfwHR2npCuhNLfqQwEDfRDtBIySIT28kLvtERHPh5xP1ACwAAABcBnmF0Qn8CSNTXdNVlMAS6\n",
              "PsQtLoGuNwAAAAoBnmNqQn8AAOmBAAAATkGaaEmoQWiZTAhv//6nhAC5avQBOh1ndAdbftzxGXVr\n",
              "Q+dZqLhy6/9n6+SppIsSliwQpbpl6eyPbltg1nP/i0KQrJ3PtX0V16r1Mr1YwQAAABJBnoZFESwr\n",
              "/wHR2ysw8y8fWNMAAAAKAZ6ldEJ/AADpgQAAAAoBnqdqQn8AAOmAAAAAOEGarEmoQWyZTAhv//6n\n",
              "hACwavQCTwchBnBkkoUNiMxzytv8OiGLSpdl75Gdpm+FmOtjpyAhttIOAAAAFEGeykUVLCv/AdHb\n",
              "KzDzLx9aVNzXAAAACgGe6XRCfwAA6YAAAAAKAZ7rakJ/AADpgAAAACJBmvBJqEFsmUwIb//+p4QA\n",
              "cQaaAFyOpRAqM81misEAFCvRAAAAEkGfDkUVLCv/AdHbKzDzLx9Y0wAAAAoBny10Qn8AAOmBAAAA\n",
              "CgGfL2pCfwAA6YAAAAAoQZs0SahBbJlMCG///qeEAElLDiCiQcQfUhGNhiwnywWddAUbDPzdUgAA\n",
              "ABJBn1JFFSwr/wHR2ysw8y8fWNMAAAAKAZ9xdEJ/AADpgAAAAAoBn3NqQn8AAOmAAAAAIUGbeEmo\n",
              "QWyZTAhv//6nhABJSw4gpEdFxAplAud4drFfYQAAABJBn5ZFFSwr/wHR2ysw8y8fWNMAAAAKAZ+1\n",
              "dEJ/AADpgQAAAAoBn7dqQn8AAOmBAAAAIUGbvEmoQWyZTAhv//6nhABJSw4gokG1xAp1Qud4drFf\n",
              "YAAAABJBn9pFFSwr/wHR2ysw8y8fWNMAAAAKAZ/5dEJ/AADpgAAAAAoBn/tqQn8AAOmBAAAAIUGb\n",
              "4EmoQWyZTAhv//6nhABJSw4gpEdFxAplAud4drFfYQAAABJBnh5FFSwr/wHR2ysw8y8fWNMAAAAK\n",
              "AZ49dEJ/AADpgAAAAAoBnj9qQn8AAOmBAAAAIUGaJEmoQWyZTAhv//6nhABJSw4gokG1xAp1Qud4\n",
              "drFfYAAAABJBnkJFFSwr/wHR2ysw8y8fWNMAAAAKAZ5hdEJ/AADpgAAAAAoBnmNqQn8AAOmBAAAA\n",
              "IUGaaEmoQWyZTAhv//6nhABJSw4gpEdFxAplAud4drFfYQAAABJBnoZFFSwr/wHR2ysw8y8fWNMA\n",
              "AAAKAZ6ldEJ/AADpgQAAAAoBnqdqQn8AAOmAAAAAIUGarEmoQWyZTAhv//6nhABJSw4gokG1xAp1\n",
              "Qud4drFfYAAAABJBnspFFSwr/wHR2ysw8y8fWNMAAAAKAZ7pdEJ/AADpgAAAAAoBnutqQn8AAOmA\n",
              "AAAAIUGa8EmoQWyZTAhv//6nhABJSw4gpEdFxAplAud4drFfYQAAABJBnw5FFSwr/wHR2ysw8y8f\n",
              "WNMAAAAKAZ8tdEJ/AADpgQAAAAoBny9qQn8AAOmAAAAAIUGbNEmoQWyZTAhv//6nhABJSw4gokG1\n",
              "xAp1Qud4drFfYAAAABJBn1JFFSwr/wHR2ysw8y8fWNMAAAAKAZ9xdEJ/AADpgAAAAAoBn3NqQn8A\n",
              "AOmAAAAAIUGbeEmoQWyZTAhv//6nhABJSw4gpEdFxAplAud4drFfYQAAABJBn5ZFFSwr/wHR2ysw\n",
              "8y8fWNMAAAAKAZ+1dEJ/AADpgQAAAAoBn7dqQn8AAOmBAAAAIUGbvEmoQWyZTAhv//6nhABJSw4g\n",
              "okG1xAp1Qud4drFfYAAAABJBn9pFFSwr/wHR2ysw8y8fWNMAAAAKAZ/5dEJ/AADpgAAAAAoBn/tq\n",
              "Qn8AAOmBAAAAIUGb4EmoQWyZTAhv//6nhABJSw4gpEdFxAplAud4drFfYQAAABJBnh5FFSwr/wHR\n",
              "2ysw8y8fWNMAAAAKAZ49dEJ/AADpgAAAAAoBnj9qQn8AAOmBAAAAIUGaJEmoQWyZTAhv//6nhABJ\n",
              "Sw4gokG1xAp1Qud4drFfYAAAABJBnkJFFSwr/wHR2ysw8y8fWNMAAAAKAZ5hdEJ/AADpgAAAAAoB\n",
              "nmNqQn8AAOmBAAAAIUGaaEmoQWyZTAhv//6nhABJSw4gpEdFxAplAud4drFfYQAAABJBnoZFFSwr\n",
              "/wHR2ysw8y8fWNMAAAAKAZ6ldEJ/AADpgQAAAAoBnqdqQn8AAOmAAAAAIUGarEmoQWyZTAhv//6n\n",
              "hABJSw4gokG1xAp1Qud4drFfYAAAABJBnspFFSwr/wHR2ysw8y8fWNMAAAAKAZ7pdEJ/AADpgAAA\n",
              "AAoBnutqQn8AAOmAAAAAIUGa8EmoQWyZTAhv//6nhABJSw4gpEdFxAplAud4drFfYQAAABJBnw5F\n",
              "FSwr/wHR2ysw8y8fWNMAAAAKAZ8tdEJ/AADpgQAAAAoBny9qQn8AAOmAAAAAIUGbNEmoQWyZTAhv\n",
              "//6nhABJSw4gokG1xAp1Qud4drFfYAAAABJBn1JFFSwr/wHR2ysw8y8fWNMAAAAKAZ9xdEJ/AADp\n",
              "gAAAAAoBn3NqQn8AAOmAAAAAIUGbeEmoQWyZTAhv//6nhABJSw4gpEdFxAplAud4drFfYQAAABJB\n",
              "n5ZFFSwr/wHR2ysw8y8fWNMAAAAKAZ+1dEJ/AADpgQAAAAoBn7dqQn8AAOmBAAAAIUGbvEmoQWyZ\n",
              "TAhv//6nhABJSw4gokG1xAp1Qud4drFfYAAAABJBn9pFFSwr/wHR2ysw8y8fWNMAAAAKAZ/5dEJ/\n",
              "AADpgAAAAAoBn/tqQn8AAOmBAAAAIUGb4EmoQWyZTAhv//6nhABJSw4gpEdFxAplAud4drFfYQAA\n",
              "ABJBnh5FFSwr/wHR2ysw8y8fWNMAAAAKAZ49dEJ/AADpgAAAAAoBnj9qQn8AAOmBAAAAIUGaJEmo\n",
              "QWyZTAhv//6nhABJSw4gokG1xAp1Qud4drFfYAAAABJBnkJFFSwr/wHR2ysw8y8fWNMAAAAKAZ5h\n",
              "dEJ/AADpgAAAAAoBnmNqQn8AAOmBAAAAIUGaaEmoQWyZTAhv//6nhABJSw4gpEdFxAplAud4drFf\n",
              "YQAAABJBnoZFFSwr/wHR2ysw8y8fWNMAAAAKAZ6ldEJ/AADpgQAAAAoBnqdqQn8AAOmAAAAAIUGa\n",
              "rEmoQWyZTAhv//6nhABJSw4gokG1xAp1Qud4drFfYAAAABJBnspFFSwr/wHR2ysw8y8fWNMAAAAK\n",
              "AZ7pdEJ/AADpgAAAAAoBnutqQn8AAOmAAAAAIUGa8EmoQWyZTAhv//6nhABJSw4gpEdFxAplAud4\n",
              "drFfYQAAABJBnw5FFSwr/wHR2ysw8y8fWNMAAAAKAZ8tdEJ/AADpgQAAAAoBny9qQn8AAOmAAAAA\n",
              "JEGbNEmoQWyZTAhv//6nhABJSw4gokG1xAp1XV4bbCFDY0JQwAAAABJBn1JFFSwr/wHR2ysw8y8f\n",
              "WNMAAAAKAZ9xdEJ/AADpgAAAAAoBn3NqQn8AAOmAAAAAI0GbeEmoQWyZTAhv//6nhABJSw4gpEdI\n",
              "lHcN6sLnmnfbiB3HAAAAEkGflkUVLCv/AdHbKzDzLx9Y0wAAAAoBn7V0Qn8AAOmBAAAACgGft2pC\n",
              "fwAA6YEAAAAkQZu8SahBbJlMCG///qeEALBq9AE6jpTbFnrnmxdYQ+8ogh2aAAAAEkGf2kUVLCv/\n",
              "AdHbKzDzLx9Y0wAAAAoBn/l0Qn8AAOmAAAAACgGf+2pCfwAA6YEAAAArQZvgSahBbJlMCG///qeE\n",
              "ATQsOIKQHn1LfNuUHvlShQCgdLrqOdoTky/OawAAABJBnh5FFSwr/wHR2ysw8y8fWNMAAAAKAZ49\n",
              "dEJ/AADpgAAAAAoBnj9qQn8AAOmBAAAAI0GaJEmoQWyZTAhv//6nhAFFhegCdCBzub6uSGKT9T0t\n",
              "NV4/AAAAEkGeQkUVLCv/AdHbKzDzLx9Y0wAAAAoBnmF0Qn8AAOmAAAAACgGeY2pCfwAA6YEAAAAi\n",
              "QZpoSahBbJlMCG///qeEANbC9AJOdQh2M3IriCc0dA/bwQAAABJBnoZFFSwr/wHR2ysw8y8fWNMA\n",
              "AAAKAZ6ldEJ/AADpgQAAAAoBnqdqQn8AAOmAAAAAJEGarEmoQWyZTAhv//6nhADWwvQBOg6ao7mr\n",
              "s0HmyYaHKhq5YwAAABJBnspFFSwr/wHR2ysw8y8fWNMAAAAKAZ7pdEJ/AADpgAAAAAoBnutqQn8A\n",
              "AOmAAAAAEkGa8EmoQWyZTAhn//6eEAADZwAAABJBnw5FFSwr/wHR2ysw8y8fWNMAAAAKAZ8tdEJ/\n",
              "AADpgQAAAAoBny9qQn8AAOmAAAAAEkGbNEmoQWyZTAhf//6MsAADagAAABJBn1JFFSwr/wHR2ysw\n",
              "8y8fWNMAAAAKAZ9xdEJ/AADpgAAAAAoBn3NqQn8AAOmAAAAAE0GbdkmoQWyZTBRMJ//98QAAH+EA\n",
              "AAAQAZ+VakJ/AlovdErCO/WHzQAACkJtb292AAAAbG12aGQAAAAAAAAAAAAAAAAAAAPoAAATqgAB\n",
              "AAABAAAAAAAAAAAAAAAAAQAAAAAAAAAAAAAAAAAAAAEAAAAAAAAAAAAAAAAAAEAAAAAAAAAAAAAA\n",
              "AAAAAAAAAAAAAAAAAAAAAAAAAAACAAAJbHRyYWsAAABcdGtoZAAAAAMAAAAAAAAAAAAAAAEAAAAA\n",
              "AAATqgAAAAAAAAAAAAAAAAAAAAAAAQAAAAAAAAAAAAAAAAAAAAEAAAAAAAAAAAAAAAAAAEAAAAAB\n",
              "QAAAAPAAAAAAACRlZHRzAAAAHGVsc3QAAAAAAAAAAQAAE6oAAAQAAAEAAAAACORtZGlhAAAAIG1k\n",
              "aGQAAAAAAAAAAAAAAAAAADwAAAEuAFXEAAAAAAAtaGRscgAAAAAAAAAAdmlkZQAAAAAAAAAAAAAA\n",
              "AFZpZGVvSGFuZGxlcgAAAAiPbWluZgAAABR2bWhkAAAAAQAAAAAAAAAAAAAAJGRpbmYAAAAcZHJl\n",
              "ZgAAAAAAAAABAAAADHVybCAAAAABAAAIT3N0YmwAAACzc3RzZAAAAAAAAAABAAAAo2F2YzEAAAAA\n",
              "AAAAAQAAAAAAAAAAAAAAAAAAAAABQADwAEgAAABIAAAAAAAAAAEAAAAAAAAAAAAAAAAAAAAAAAAA\n",
              "AAAAAAAAAAAAAAAAAAAY//8AAAAxYXZjQwFkAA3/4QAYZ2QADazZQUH6EAAAAwAQAAADA8DxQplg\n",
              "AQAGaOvjyyLAAAAAHHV1aWRraEDyXyRPxbo5pRvPAyPzAAAAAAAAABhzdHRzAAAAAAAAAAEAAACX\n",
              "AAACAAAAABRzdHNzAAAAAAAAAAEAAAABAAAEyGN0dHMAAAAAAAAAlwAAAAEAAAQAAAAAAQAACgAA\n",
              "AAABAAAEAAAAAAEAAAAAAAAAAQAAAgAAAAABAAAKAAAAAAEAAAQAAAAAAQAAAAAAAAABAAACAAAA\n",
              "AAEAAAoAAAAAAQAABAAAAAABAAAAAAAAAAEAAAIAAAAAAQAACgAAAAABAAAEAAAAAAEAAAAAAAAA\n",
              "AQAAAgAAAAABAAAKAAAAAAEAAAQAAAAAAQAAAAAAAAABAAACAAAAAAEAAAoAAAAAAQAABAAAAAAB\n",
              "AAAAAAAAAAEAAAIAAAAAAQAACgAAAAABAAAEAAAAAAEAAAAAAAAAAQAAAgAAAAABAAAKAAAAAAEA\n",
              "AAQAAAAAAQAAAAAAAAABAAACAAAAAAEAAAoAAAAAAQAABAAAAAABAAAAAAAAAAEAAAIAAAAAAQAA\n",
              "CgAAAAABAAAEAAAAAAEAAAAAAAAAAQAAAgAAAAABAAAKAAAAAAEAAAQAAAAAAQAAAAAAAAABAAAC\n",
              "AAAAAAEAAAoAAAAAAQAABAAAAAABAAAAAAAAAAEAAAIAAAAAAQAACgAAAAABAAAEAAAAAAEAAAAA\n",
              "AAAAAQAAAgAAAAABAAAKAAAAAAEAAAQAAAAAAQAAAAAAAAABAAACAAAAAAEAAAoAAAAAAQAABAAA\n",
              "AAABAAAAAAAAAAEAAAIAAAAAAQAACgAAAAABAAAEAAAAAAEAAAAAAAAAAQAAAgAAAAABAAAKAAAA\n",
              "AAEAAAQAAAAAAQAAAAAAAAABAAACAAAAAAEAAAoAAAAAAQAABAAAAAABAAAAAAAAAAEAAAIAAAAA\n",
              "AQAACgAAAAABAAAEAAAAAAEAAAAAAAAAAQAAAgAAAAABAAAKAAAAAAEAAAQAAAAAAQAAAAAAAAAB\n",
              "AAACAAAAAAEAAAoAAAAAAQAABAAAAAABAAAAAAAAAAEAAAIAAAAAAQAACgAAAAABAAAEAAAAAAEA\n",
              "AAAAAAAAAQAAAgAAAAABAAAKAAAAAAEAAAQAAAAAAQAAAAAAAAABAAACAAAAAAEAAAoAAAAAAQAA\n",
              "BAAAAAABAAAAAAAAAAEAAAIAAAAAAQAACgAAAAABAAAEAAAAAAEAAAAAAAAAAQAAAgAAAAABAAAK\n",
              "AAAAAAEAAAQAAAAAAQAAAAAAAAABAAACAAAAAAEAAAoAAAAAAQAABAAAAAABAAAAAAAAAAEAAAIA\n",
              "AAAAAQAACgAAAAABAAAEAAAAAAEAAAAAAAAAAQAAAgAAAAABAAAKAAAAAAEAAAQAAAAAAQAAAAAA\n",
              "AAABAAACAAAAAAEAAAoAAAAAAQAABAAAAAABAAAAAAAAAAEAAAIAAAAAAQAACgAAAAABAAAEAAAA\n",
              "AAEAAAAAAAAAAQAAAgAAAAABAAAKAAAAAAEAAAQAAAAAAQAAAAAAAAABAAACAAAAAAEAAAoAAAAA\n",
              "AQAABAAAAAABAAAAAAAAAAEAAAIAAAAAAQAACgAAAAABAAAEAAAAAAEAAAAAAAAAAQAAAgAAAAAB\n",
              "AAAKAAAAAAEAAAQAAAAAAQAAAAAAAAABAAACAAAAAAEAAAoAAAAAAQAABAAAAAABAAAAAAAAAAEA\n",
              "AAIAAAAAAQAACgAAAAABAAAEAAAAAAEAAAAAAAAAAQAAAgAAAAABAAAGAAAAAAEAAAIAAAAAHHN0\n",
              "c2MAAAAAAAAAAQAAAAEAAACXAAAAAQAAAnBzdHN6AAAAAAAAAAAAAACXAAAL8wAAAMUAAAArAAAA\n",
              "GwAAAA4AAABSAAAAFgAAAA4AAAAOAAAAPAAAABgAAAAOAAAADgAAACYAAAAWAAAADgAAAA4AAAAs\n",
              "AAAAFgAAAA4AAAAOAAAAJQAAABYAAAAOAAAADgAAACUAAAAWAAAADgAAAA4AAAAlAAAAFgAAAA4A\n",
              "AAAOAAAAJQAAABYAAAAOAAAADgAAACUAAAAWAAAADgAAAA4AAAAlAAAAFgAAAA4AAAAOAAAAJQAA\n",
              "ABYAAAAOAAAADgAAACUAAAAWAAAADgAAAA4AAAAlAAAAFgAAAA4AAAAOAAAAJQAAABYAAAAOAAAA\n",
              "DgAAACUAAAAWAAAADgAAAA4AAAAlAAAAFgAAAA4AAAAOAAAAJQAAABYAAAAOAAAADgAAACUAAAAW\n",
              "AAAADgAAAA4AAAAlAAAAFgAAAA4AAAAOAAAAJQAAABYAAAAOAAAADgAAACUAAAAWAAAADgAAAA4A\n",
              "AAAlAAAAFgAAAA4AAAAOAAAAJQAAABYAAAAOAAAADgAAACUAAAAWAAAADgAAAA4AAAAlAAAAFgAA\n",
              "AA4AAAAOAAAAJQAAABYAAAAOAAAADgAAACUAAAAWAAAADgAAAA4AAAAoAAAAFgAAAA4AAAAOAAAA\n",
              "JwAAABYAAAAOAAAADgAAACgAAAAWAAAADgAAAA4AAAAvAAAAFgAAAA4AAAAOAAAAJwAAABYAAAAO\n",
              "AAAADgAAACYAAAAWAAAADgAAAA4AAAAoAAAAFgAAAA4AAAAOAAAAFgAAABYAAAAOAAAADgAAABYA\n",
              "AAAWAAAADgAAAA4AAAAXAAAAFAAAABRzdGNvAAAAAAAAAAEAAAAsAAAAYnVkdGEAAABabWV0YQAA\n",
              "AAAAAAAhaGRscgAAAAAAAAAAbWRpcmFwcGwAAAAAAAAAAAAAAAAtaWxzdAAAACWpdG9vAAAAHWRh\n",
              "dGEAAAABAAAAAExhdmY1Ny44My4xMDA=\n",
              "\">\n",
              "  Your browser does not support the video tag.\n",
              "</video>"
            ]
          },
          "metadata": {},
          "execution_count": 9
        }
      ],
      "source": [
        "#@title Making a video {vertical-output: true}\n",
        "\n",
        "duration = 5    # (seconds)\n",
        "framerate = 30  # (Hz)\n",
        "\n",
        "# Visualize the joint axis\n",
        "scene_option = mujoco.wrapper.core.MjvOption()\n",
        "scene_option.flags[enums.mjtVisFlag.mjVIS_JOINT] = False\n",
        "\n",
        "# Simulate and display video.\n",
        "frames = []\n",
        "physics.reset()  # Reset state and time\n",
        "while physics.data.time < duration:\n",
        "  physics.step()\n",
        "  if len(frames) < physics.data.time * framerate:\n",
        "    pixels = physics.render(scene_option=scene_option)\n",
        "    frames.append(pixels)\n",
        "display_video(frames, framerate)"
      ]
    },
    {
      "cell_type": "markdown",
      "metadata": {
        "id": "yYvS1UaciMX_"
      },
      "source": [
        "Note how we collect the video frames. Because physics simulation timesteps are generally much smaller than framerates (the default timestep is 2ms), we don't render after each step."
      ]
    },
    {
      "cell_type": "markdown",
      "metadata": {
        "id": "nQ8XOnRQx7T1"
      },
      "source": [
        "### Rendering options\n",
        "\n",
        "additional rendering options are exposed as parameters to the `render` method."
      ]
    },
    {
      "cell_type": "code",
      "execution_count": 11,
      "metadata": {
        "id": "PDDgY48vx7T6",
        "colab": {
          "base_uri": "https://localhost:8080/",
          "height": 270
        },
        "outputId": "4f95bf0d-be1f-48c4-d5c9-e1d7eef24132"
      },
      "outputs": [
        {
          "output_type": "error",
          "ename": "NameError",
          "evalue": "ignored",
          "traceback": [
            "\u001b[0;31m---------------------------------------------------------------------------\u001b[0m",
            "\u001b[0;31mNameError\u001b[0m                                 Traceback (most recent call last)",
            "\u001b[0;32m<ipython-input-11-ccfd66c4671e>\u001b[0m in \u001b[0;36m<module>\u001b[0;34m\u001b[0m\n\u001b[1;32m      2\u001b[0m \u001b[0;34m\u001b[0m\u001b[0m\n\u001b[1;32m      3\u001b[0m \u001b[0;31m# depth is a float array, in meters.\u001b[0m\u001b[0;34m\u001b[0m\u001b[0;34m\u001b[0m\u001b[0;34m\u001b[0m\u001b[0m\n\u001b[0;32m----> 4\u001b[0;31m \u001b[0mdepth\u001b[0m \u001b[0;34m=\u001b[0m \u001b[0mphysics\u001b[0m\u001b[0;34m.\u001b[0m\u001b[0mrender\u001b[0m\u001b[0;34m(\u001b[0m\u001b[0mdepth\u001b[0m\u001b[0;34m=\u001b[0m\u001b[0;32mTrue\u001b[0m\u001b[0;34m)\u001b[0m\u001b[0;34m\u001b[0m\u001b[0;34m\u001b[0m\u001b[0m\n\u001b[0m\u001b[1;32m      5\u001b[0m \u001b[0;31m# Shift nearest values to the origin.\u001b[0m\u001b[0;34m\u001b[0m\u001b[0;34m\u001b[0m\u001b[0;34m\u001b[0m\u001b[0m\n\u001b[1;32m      6\u001b[0m \u001b[0mdepth\u001b[0m \u001b[0;34m-=\u001b[0m \u001b[0mdepth\u001b[0m\u001b[0;34m.\u001b[0m\u001b[0mmin\u001b[0m\u001b[0;34m(\u001b[0m\u001b[0;34m)\u001b[0m\u001b[0;34m\u001b[0m\u001b[0;34m\u001b[0m\u001b[0m\n",
            "\u001b[0;31mNameError\u001b[0m: name 'physics' is not defined"
          ]
        }
      ],
      "source": [
        "#@title Depth rendering {vertical-output: true}\n",
        "\n",
        "# depth is a float array, in meters.\n",
        "depth = physics.render(depth=True)\n",
        "# Shift nearest values to the origin.\n",
        "depth -= depth.min()\n",
        "# Scale by 2 mean distances of near rays.\n",
        "depth /= 2*depth[depth <= 1].mean()\n",
        "# Scale to [0, 255]\n",
        "pixels = 255*np.clip(depth, 0, 1)\n",
        "PIL.Image.fromarray(pixels.astype(np.uint8))"
      ]
    },
    {
      "cell_type": "markdown",
      "source": [
        "## OpenAI Safety Gym Custom"
      ],
      "metadata": {
        "id": "MB2vDhSK-bPF"
      }
    },
    {
      "cell_type": "code",
      "source": [
        "!pip install git+https://github.com/openai/safety-gym.git"
      ],
      "metadata": {
        "id": "9lfEUHYPED77",
        "colab": {
          "base_uri": "https://localhost:8080/"
        },
        "outputId": "d1d41e05-184b-447c-becc-8029c4fa5ac8"
      },
      "execution_count": 14,
      "outputs": [
        {
          "output_type": "stream",
          "name": "stdout",
          "text": [
            "Looking in indexes: https://pypi.org/simple, https://us-python.pkg.dev/colab-wheels/public/simple/\n",
            "Collecting git+https://github.com/openai/safety-gym.git\n",
            "  Cloning https://github.com/openai/safety-gym.git to /tmp/pip-req-build-_b_nsjdn\n",
            "  Running command git clone -q https://github.com/openai/safety-gym.git /tmp/pip-req-build-_b_nsjdn\n",
            "Collecting gym~=0.15.3\n",
            "  Using cached gym-0.15.7-py3-none-any.whl\n",
            "Collecting joblib~=0.14.0\n",
            "  Using cached joblib-0.14.1-py2.py3-none-any.whl (294 kB)\n",
            "Collecting mujoco_py==2.0.2.7\n",
            "  Using cached mujoco-py-2.0.2.7.tar.gz (777 kB)\n",
            "  Installing build dependencies ... \u001b[?25l\u001b[?25hdone\n",
            "\u001b[33m  WARNING: Missing build requirements in pyproject.toml for mujoco_py==2.0.2.7 from https://files.pythonhosted.org/packages/c3/a1/00f5482d6325565f35a81707b8c6b3e364bdc8f7b9487c15c18781e1432a/mujoco-py-2.0.2.7.tar.gz#sha256=2a294006c66ed225c3409b9d60a91afeb7756f96fecf3d8c22116d00adf6d82a (from safety-gym==0.0.0).\u001b[0m\n",
            "\u001b[33m  WARNING: The project does not specify a build backend, and pip cannot fall back to setuptools without 'wheel'.\u001b[0m\n",
            "  Getting requirements to build wheel ... \u001b[?25l\u001b[?25hdone\n",
            "  Installing backend dependencies ... \u001b[?25l\u001b[?25hdone\n",
            "    Preparing wheel metadata ... \u001b[?25l\u001b[?25hdone\n",
            "Collecting numpy~=1.17.4\n",
            "  Using cached numpy-1.17.5-cp37-cp37m-manylinux1_x86_64.whl (20.0 MB)\n",
            "Collecting xmltodict~=0.12.0\n",
            "  Using cached xmltodict-0.12.0-py2.py3-none-any.whl (9.2 kB)\n",
            "Requirement already satisfied: glfw>=1.4.0 in /usr/local/lib/python3.7/dist-packages (from mujoco_py==2.0.2.7->safety-gym==0.0.0) (1.12.0)\n",
            "Requirement already satisfied: fasteners~=0.15 in /usr/local/lib/python3.7/dist-packages (from mujoco_py==2.0.2.7->safety-gym==0.0.0) (0.15)\n",
            "Requirement already satisfied: imageio>=2.1.2 in /usr/local/lib/python3.7/dist-packages (from mujoco_py==2.0.2.7->safety-gym==0.0.0) (2.9.0)\n",
            "Requirement already satisfied: Cython>=0.27.2 in /usr/local/lib/python3.7/dist-packages (from mujoco_py==2.0.2.7->safety-gym==0.0.0) (0.29.32)\n",
            "Requirement already satisfied: cffi>=1.10 in /usr/local/lib/python3.7/dist-packages (from mujoco_py==2.0.2.7->safety-gym==0.0.0) (1.15.1)\n",
            "Requirement already satisfied: pycparser in /usr/local/lib/python3.7/dist-packages (from cffi>=1.10->mujoco_py==2.0.2.7->safety-gym==0.0.0) (2.21)\n",
            "Requirement already satisfied: monotonic>=0.1 in /usr/local/lib/python3.7/dist-packages (from fasteners~=0.15->mujoco_py==2.0.2.7->safety-gym==0.0.0) (1.6)\n",
            "Requirement already satisfied: six in /usr/local/lib/python3.7/dist-packages (from fasteners~=0.15->mujoco_py==2.0.2.7->safety-gym==0.0.0) (1.15.0)\n",
            "Collecting cloudpickle~=1.2.0\n",
            "  Using cached cloudpickle-1.2.2-py2.py3-none-any.whl (25 kB)\n",
            "Requirement already satisfied: scipy in /usr/local/lib/python3.7/dist-packages (from gym~=0.15.3->safety-gym==0.0.0) (1.7.3)\n",
            "Collecting pyglet<=1.5.0,>=1.4.0\n",
            "  Using cached pyglet-1.5.0-py2.py3-none-any.whl (1.0 MB)\n",
            "Requirement already satisfied: pillow in /usr/local/lib/python3.7/dist-packages (from imageio>=2.1.2->mujoco_py==2.0.2.7->safety-gym==0.0.0) (7.1.2)\n",
            "Requirement already satisfied: future in /usr/local/lib/python3.7/dist-packages (from pyglet<=1.5.0,>=1.4.0->gym~=0.15.3->safety-gym==0.0.0) (0.16.0)\n",
            "Building wheels for collected packages: safety-gym, mujoco-py\n",
            "  Building wheel for safety-gym (setup.py) ... \u001b[?25l\u001b[?25hdone\n",
            "  Created wheel for safety-gym: filename=safety_gym-0.0.0-py3-none-any.whl size=2722 sha256=c2abea0506c38f8b1c9443fedf1e9a92e8cae01a56dd7d823b8d882c8813b133\n",
            "  Stored in directory: /tmp/pip-ephem-wheel-cache-7pd29ipf/wheels/ee/45/6a/0a6ed9fde8a10f924eaf686f8cb049965996d137333d33e892\n",
            "  Building wheel for mujoco-py (PEP 517) ... \u001b[?25l\u001b[?25herror\n",
            "\u001b[31m  ERROR: Failed building wheel for mujoco-py\u001b[0m\n",
            "Successfully built safety-gym\n",
            "Failed to build mujoco-py\n",
            "\u001b[31mERROR: Could not build wheels for mujoco-py which use PEP 517 and cannot be installed directly\u001b[0m\n"
          ]
        }
      ]
    },
    {
      "cell_type": "code",
      "source": [
        "import safety_gym # /content/zxdrive/MyDrive/BeeCrossmodalityPJ/safety-gym/safety_gym\n",
        "print(safety_gym)"
      ],
      "metadata": {
        "id": "x_TuivbTtvfl",
        "colab": {
          "base_uri": "https://localhost:8080/"
        },
        "outputId": "f3adb732-4555-4680-a3e2-7edfc9df346a"
      },
      "execution_count": 15,
      "outputs": [
        {
          "output_type": "stream",
          "name": "stdout",
          "text": [
            "<module 'safety_gym' from '/content/zxdrive/MyDrive/BeeCrossmodalityPJ/safety-gym/safety_gym/__init__.py'>\n"
          ]
        }
      ]
    },
    {
      "cell_type": "code",
      "source": [
        "import gym\n",
        "\n",
        "env = gym.make('Safexp-PointGoal1-v0')\n",
        "from safety_gym import "
      ],
      "metadata": {
        "id": "D_MrSenR7zIO"
      },
      "execution_count": 16,
      "outputs": []
    },
    {
      "cell_type": "code",
      "source": [
        "from safety_gym import engine"
      ],
      "metadata": {
        "colab": {
          "base_uri": "https://localhost:8080/",
          "height": 322
        },
        "id": "bAlAhMRg3ybh",
        "outputId": "28b4fcec-a070-457b-e6dc-c7b4725108e4"
      },
      "execution_count": 21,
      "outputs": [
        {
          "output_type": "error",
          "ename": "ImportError",
          "evalue": "ignored",
          "traceback": [
            "\u001b[0;31m---------------------------------------------------------------------------\u001b[0m",
            "\u001b[0;31mImportError\u001b[0m                               Traceback (most recent call last)",
            "\u001b[0;32m<ipython-input-21-dd5b876ce614>\u001b[0m in \u001b[0;36m<module>\u001b[0;34m\u001b[0m\n\u001b[0;32m----> 1\u001b[0;31m \u001b[0;32mfrom\u001b[0m \u001b[0msafety_gym\u001b[0m \u001b[0;32mimport\u001b[0m \u001b[0mengine\u001b[0m\u001b[0;34m\u001b[0m\u001b[0;34m\u001b[0m\u001b[0m\n\u001b[0m",
            "\u001b[0;31mImportError\u001b[0m: cannot import name 'engine' from 'safety_gym' (/content/zxdrive/MyDrive/BeeCrossmodalityPJ/safety-gym/safety_gym/__init__.py)",
            "",
            "\u001b[0;31m---------------------------------------------------------------------------\u001b[0;32m\nNOTE: If your import is failing due to a missing package, you can\nmanually install dependencies using either !pip or !apt.\n\nTo view examples of installing some common dependencies, click the\n\"Open Examples\" button below.\n\u001b[0;31m---------------------------------------------------------------------------\u001b[0m\n"
          ],
          "errorDetails": {
            "actions": [
              {
                "action": "open_url",
                "actionText": "Open Examples",
                "url": "/notebooks/snippets/importing_libraries.ipynb"
              }
            ]
          }
        }
      ]
    },
    {
      "cell_type": "code",
      "source": [
        ""
      ],
      "metadata": {
        "id": "HYYYIFHH3yYW"
      },
      "execution_count": null,
      "outputs": []
    },
    {
      "cell_type": "code",
      "source": [
        ""
      ],
      "metadata": {
        "id": "-5MgY-d33yVA"
      },
      "execution_count": null,
      "outputs": []
    },
    {
      "cell_type": "code",
      "source": [
        ""
      ],
      "metadata": {
        "id": "QmDaja1b3yMn"
      },
      "execution_count": null,
      "outputs": []
    },
    {
      "cell_type": "code",
      "source": [
        "frame = render(env)\n",
        "plt.imshow(frame)\n",
        "plt.axis('off')"
      ],
      "metadata": {
        "colab": {
          "base_uri": "https://localhost:8080/",
          "height": 201
        },
        "id": "M9e6HGHX1abp",
        "outputId": "9ca27263-7077-445d-c3f2-560065303069"
      },
      "execution_count": 18,
      "outputs": [
        {
          "output_type": "error",
          "ename": "NameError",
          "evalue": "ignored",
          "traceback": [
            "\u001b[0;31m---------------------------------------------------------------------------\u001b[0m",
            "\u001b[0;31mNameError\u001b[0m                                 Traceback (most recent call last)",
            "\u001b[0;32m<ipython-input-18-aa8d878c104c>\u001b[0m in \u001b[0;36m<module>\u001b[0;34m\u001b[0m\n\u001b[0;32m----> 1\u001b[0;31m \u001b[0mframe\u001b[0m \u001b[0;34m=\u001b[0m \u001b[0mrender\u001b[0m\u001b[0;34m(\u001b[0m\u001b[0menv\u001b[0m\u001b[0;34m)\u001b[0m\u001b[0;34m\u001b[0m\u001b[0;34m\u001b[0m\u001b[0m\n\u001b[0m\u001b[1;32m      2\u001b[0m \u001b[0mplt\u001b[0m\u001b[0;34m.\u001b[0m\u001b[0mimshow\u001b[0m\u001b[0;34m(\u001b[0m\u001b[0mframe\u001b[0m\u001b[0;34m)\u001b[0m\u001b[0;34m\u001b[0m\u001b[0;34m\u001b[0m\u001b[0m\n\u001b[1;32m      3\u001b[0m \u001b[0mplt\u001b[0m\u001b[0;34m.\u001b[0m\u001b[0maxis\u001b[0m\u001b[0;34m(\u001b[0m\u001b[0;34m'off'\u001b[0m\u001b[0;34m)\u001b[0m\u001b[0;34m\u001b[0m\u001b[0;34m\u001b[0m\u001b[0m\n",
            "\u001b[0;31mNameError\u001b[0m: name 'render' is not defined"
          ]
        }
      ]
    },
    {
      "cell_type": "markdown",
      "metadata": {
        "id": "22ENjtVuhwsm"
      },
      "source": [
        "## Setting the state with `reset_context()`\n",
        "\n",
        "In order for `data` quantities that are functions of the state to be in sync with the state, MuJoCo's `mj_step1()` needs to be called. This is facilitated by the `reset_context()` context, please see in-depth discussion in Section 2.1 of the [tech report](https://arxiv.org/abs/2006.12983)."
      ]
    },
    {
      "cell_type": "markdown",
      "source": [
        "# RL Agent DDPG"
      ],
      "metadata": {
        "id": "6JtrHfH6-c_9"
      }
    },
    {
      "cell_type": "code",
      "source": [
        "!pip install graphs\n",
        "clear_output()"
      ],
      "metadata": {
        "id": "4-Iz6mRflfFU"
      },
      "execution_count": 20,
      "outputs": []
    },
    {
      "cell_type": "code",
      "source": [
        "def make_networks_ddpg(action_spec,\n",
        "                       policy_layer_sizes=(256, 256, 256),\n",
        "                       critic_layer_sizes=(512, 512, 256),\n",
        "                      ):\n",
        "\n",
        "  \"\"\"Networks for DDPG agent.\"\"\"\n",
        "  action_size = np.prod(action_spec.shape, dtype=int)\n",
        "\n",
        "  policy_network = snt.Sequential([\n",
        "      tf2_utils.batch_concat,\n",
        "      networks.LayerNormMLP(layer_sizes=policy_layer_sizes + (action_size,)),\n",
        "      networks.TanhToSpec(spec=action_spec)\n",
        "      ])\n",
        "  critic_network = networks.CriticMultiplexer(\n",
        "          action_network=networks.ClipToSpec(action_spec),\n",
        "          critic_network=networks.LayerNormMLP(\n",
        "              layer_sizes=critic_layer_sizes + (1,),\n",
        "              activate_final=False),\n",
        "              )\n",
        "\n",
        "  return policy_network, critic_network"
      ],
      "metadata": {
        "id": "VQUKz5kf4nsp"
      },
      "execution_count": 8,
      "outputs": []
    },
    {
      "cell_type": "markdown",
      "source": [
        "### Functions for saving and restoring checkpoints\n",
        "\n",
        "Due to Colab usage limits, the Colab runtime will be restarting periodically. In order to preserve the most recent training checkpoint during a restart, please use the functions below.\n",
        "\n",
        "To do so, you'll have to first mount Google Drive (will be shown below).\n",
        "\n",
        "Before runtime restart:\n",
        "Use save_ckpt_to_drive to locate the checkpoint and save it to your Google Drive in a directory /acme_ckpt\n",
        "\n",
        "After runtime restart:\n",
        "Use restore_ckpt_from_drive to recover the checkpoint from Google Drive and copy it back to the restarted Colab virtual machine."
      ],
      "metadata": {
        "id": "zGMlCpbq5Q6B"
      }
    },
    {
      "cell_type": "code",
      "source": [
        ""
      ],
      "metadata": {
        "id": "pwilJBPZ5ZyQ"
      },
      "execution_count": null,
      "outputs": []
    },
    {
      "cell_type": "markdown",
      "source": [
        ""
      ],
      "metadata": {
        "id": "r_sdj4Jr1Jix"
      }
    },
    {
      "cell_type": "code",
      "source": [
        ""
      ],
      "metadata": {
        "id": "KSm1YdyN1J1w"
      },
      "execution_count": null,
      "outputs": []
    }
  ],
  "metadata": {
    "accelerator": "GPU",
    "colab": {
      "collapsed_sections": [
        "qOnoXRUctNl0",
        "DBErz_mkoL7-",
        "UAMItwu8e1WR",
        "wcRX_wu_8q8u",
        "giTL_6euZFlw",
        "MvK9BW4A5c9p"
      ],
      "name": "ZX_BeeCrossmodalTask",
      "provenance": [],
      "include_colab_link": true
    },
    "kernelspec": {
      "display_name": "Python 3",
      "name": "python3"
    },
    "gpuClass": "standard"
  },
  "nbformat": 4,
  "nbformat_minor": 0
}